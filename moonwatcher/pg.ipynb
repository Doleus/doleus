{
 "cells": [
  {
   "cell_type": "code",
   "execution_count": 1,
   "id": "initial_id",
   "metadata": {
    "ExecuteTime": {
     "end_time": "2024-09-03T11:47:58.699610Z",
     "start_time": "2024-09-03T11:47:58.694861Z"
    },
    "collapsed": true
   },
   "outputs": [],
   "source": [
    "import json"
   ]
  },
  {
   "cell_type": "code",
   "execution_count": 2,
   "id": "d04b81055fad51b",
   "metadata": {},
   "outputs": [],
   "source": [
    "user_dict =  {\n",
    "    \"user_id\": \"1234567890\",\n",
    "    \"user_name\": \"John Doe\",\n",
    "}\n",
    "with open (\"./user.json\", \"w\") as f:\n",
    "    json.dump(user_dict, f)"
   ]
  },
  {
   "cell_type": "code",
   "execution_count": null,
   "id": "5a3c40e6",
   "metadata": {},
   "outputs": [],
   "source": [
    "print(user_dict)"
   ]
  }
 ],
 "metadata": {
  "kernelspec": {
   "display_name": "Python 3",
   "language": "python",
   "name": "python3"
  },
  "language_info": {
   "codemirror_mode": {
    "name": "ipython",
    "version": 3
   },
   "file_extension": ".py",
   "mimetype": "text/x-python",
   "name": "python",
   "nbconvert_exporter": "python",
   "pygments_lexer": "ipython3",
   "version": "3.12.2"
  }
 },
 "nbformat": 4,
 "nbformat_minor": 5
}
